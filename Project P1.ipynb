{
 "cells": [
  {
   "cell_type": "code",
   "execution_count": 1,
   "id": "d935f741",
   "metadata": {},
   "outputs": [],
   "source": [
    "import scipy.io as sc"
   ]
  },
  {
   "cell_type": "code",
   "execution_count": 3,
   "id": "22446d7e",
   "metadata": {},
   "outputs": [],
   "source": [
    "data = sc.loadmat('train_data.mat')"
   ]
  },
  {
   "cell_type": "code",
   "execution_count": 13,
   "id": "f78d25a4",
   "metadata": {},
   "outputs": [
    {
     "data": {
      "text/plain": [
       "dict_keys(['__header__', '__version__', '__globals__', 'data', 'label'])"
      ]
     },
     "execution_count": 13,
     "metadata": {},
     "output_type": "execute_result"
    }
   ],
   "source": [
    "data.keys()"
   ]
  },
  {
   "cell_type": "code",
   "execution_count": 256,
   "id": "9086924d",
   "metadata": {},
   "outputs": [
    {
     "data": {
      "text/plain": [
       "11548"
      ]
     },
     "execution_count": 256,
     "metadata": {},
     "output_type": "execute_result"
    }
   ],
   "source": [
    "#len(data['data'])"
   ]
  },
  {
   "cell_type": "markdown",
   "id": "ac135ee6",
   "metadata": {},
   "source": [
    "## Task 1"
   ]
  },
  {
   "cell_type": "code",
   "execution_count": 73,
   "id": "1d314ce6",
   "metadata": {},
   "outputs": [],
   "source": [
    "import numpy as np\n",
    "import pandas as pd\n",
    "N = len(data['data'])"
   ]
  },
  {
   "cell_type": "code",
   "execution_count": 55,
   "id": "e0701aca",
   "metadata": {},
   "outputs": [],
   "source": [
    "def find_mean_std(index):\n",
    "    flatten = (data['data'][index]).flatten()\n",
    "    mean = np.mean(flatten)\n",
    "    std = np.std(flatten)\n",
    "    return mean, std"
   ]
  },
  {
   "cell_type": "markdown",
   "id": "3c5ab621",
   "metadata": {},
   "source": [
    "### Find the mean and Standard Deviation for each of the 11548 images"
   ]
  },
  {
   "cell_type": "code",
   "execution_count": 61,
   "id": "115cc2cb",
   "metadata": {},
   "outputs": [],
   "source": [
    "mean_each_img, std_each_img = [], []\n",
    "for i in range(N):\n",
    "    tmp_mean, tmp_std = find_mean_std(i)\n",
    "    mean_each_img.append(tmp_mean)\n",
    "    std_each_img.append(tmp_std)"
   ]
  },
  {
   "cell_type": "code",
   "execution_count": 62,
   "id": "db446712",
   "metadata": {},
   "outputs": [],
   "source": [
    "M1 = np.mean(mean_each_img)\n",
    "S1 = np.std(mean_each_img)\n",
    "\n",
    "M2 = np.mean(std_each_img)\n",
    "S2 = np.std(std_each_img)"
   ]
  },
  {
   "cell_type": "code",
   "execution_count": 110,
   "id": "d1af9039",
   "metadata": {},
   "outputs": [],
   "source": [
    "Y1, Y2 = np.zeros(N), np.zeros(N)\n",
    "for i in range(N):\n",
    "    Y1[i]=(mean_each_img[i]-M1)/S1\n",
    "    Y2[i]=(std_each_img[i]-M2)/S2"
   ]
  },
  {
   "cell_type": "markdown",
   "id": "d4998296",
   "metadata": {},
   "source": [
    "#### Y1 and Y2 for each image has been calculated"
   ]
  },
  {
   "cell_type": "code",
   "execution_count": 349,
   "id": "acc04d35",
   "metadata": {},
   "outputs": [
    {
     "data": {
      "text/plain": [
       "(array([ 0.15069489, -0.97386658, -0.60346935, ..., -0.80933654,\n",
       "        -0.42215888,  0.14114505]),\n",
       " 32.50435107148159,\n",
       " 9.349449452973936)"
      ]
     },
     "execution_count": 349,
     "metadata": {},
     "output_type": "execute_result"
    }
   ],
   "source": [
    "Y1, M1,S1"
   ]
  },
  {
   "cell_type": "code",
   "execution_count": 258,
   "id": "ceb9354d",
   "metadata": {},
   "outputs": [
    {
     "data": {
      "text/plain": [
       "(array([ 0.12996069, -0.93473171, -0.6292426 , ..., -0.83222958,\n",
       "        -0.31853427,  0.41329776]),\n",
       " 76.44042397326842,\n",
       " 10.509725393032216)"
      ]
     },
     "execution_count": 258,
     "metadata": {},
     "output_type": "execute_result"
    }
   ],
   "source": [
    "Y2, M2, S2"
   ]
  },
  {
   "cell_type": "markdown",
   "id": "9c62ee85",
   "metadata": {},
   "source": [
    "## Task 2"
   ]
  },
  {
   "cell_type": "code",
   "execution_count": 80,
   "id": "fa820c79",
   "metadata": {},
   "outputs": [],
   "source": [
    "image_3, image_7 = [], []"
   ]
  },
  {
   "cell_type": "code",
   "execution_count": 81,
   "id": "e824a154",
   "metadata": {},
   "outputs": [],
   "source": [
    "for i in range(N):\n",
    "    if data['label'][0][i] == 3:\n",
    "        image_3.append(i)\n",
    "    else:\n",
    "        image_7.append(i)"
   ]
  },
  {
   "cell_type": "code",
   "execution_count": 83,
   "id": "a12623a7",
   "metadata": {},
   "outputs": [
    {
     "data": {
      "text/plain": [
       "(5713, 5835)"
      ]
     },
     "execution_count": 83,
     "metadata": {},
     "output_type": "execute_result"
    }
   ],
   "source": [
    "len(image_3), len(image_7)"
   ]
  },
  {
   "cell_type": "markdown",
   "id": "4abd2fdd",
   "metadata": {},
   "source": [
    "### Calculations for Image 3"
   ]
  },
  {
   "cell_type": "code",
   "execution_count": 114,
   "id": "25a5859e",
   "metadata": {},
   "outputs": [],
   "source": [
    "split_Y1 = [Y1[i] for i in image_3]\n",
    "split_Y2 = [Y2[i] for i in image_3]"
   ]
  },
  {
   "cell_type": "code",
   "execution_count": 115,
   "id": "e0add88c",
   "metadata": {},
   "outputs": [
    {
     "data": {
      "text/plain": [
       "(0.3768799644438678, 0.31851854940980523)"
      ]
     },
     "execution_count": 115,
     "metadata": {},
     "output_type": "execute_result"
    }
   ],
   "source": [
    "mean_Y1_3, mean_Y2_3 = np.mean(split_Y1), np.mean(split_Y2)\n",
    "mean_Y1_3, mean_Y2_3"
   ]
  },
  {
   "cell_type": "code",
   "execution_count": 117,
   "id": "322646e8",
   "metadata": {},
   "outputs": [
    {
     "data": {
      "text/plain": [
       "array([0.37687996, 0.31851855])"
      ]
     },
     "execution_count": 117,
     "metadata": {},
     "output_type": "execute_result"
    }
   ],
   "source": [
    "mu_3 = np.array([mean_Y1_3, mean_Y2_3])\n",
    "mu_3"
   ]
  },
  {
   "cell_type": "code",
   "execution_count": 148,
   "id": "4e38d9fd",
   "metadata": {},
   "outputs": [],
   "source": [
    "discriminant_3 = 0"
   ]
  },
  {
   "cell_type": "code",
   "execution_count": 152,
   "id": "82e60410",
   "metadata": {},
   "outputs": [
    {
     "data": {
      "text/plain": [
       "array([[1.04928923, 0.98735728],\n",
       "       [0.98735728, 0.96056405]])"
      ]
     },
     "execution_count": 152,
     "metadata": {},
     "output_type": "execute_result"
    }
   ],
   "source": [
    "for i in image_3:\n",
    "    y_3 = np.array([Y1[i], Y2[i]])\n",
    "    term_1 = (y_3-mu_3)\n",
    "    discriminant_3 += term_1 * term_1[None].T\n",
    "discriminant_3 = discriminant_3/len(image_3)\n",
    "discriminant_3"
   ]
  },
  {
   "cell_type": "markdown",
   "id": "a8aeb1b8",
   "metadata": {},
   "source": [
    "### Calculations for Image 7"
   ]
  },
  {
   "cell_type": "code",
   "execution_count": 101,
   "id": "c9a627ae",
   "metadata": {},
   "outputs": [],
   "source": [
    "split_Y1 = [Y1[i] for i in image_7]\n",
    "split_Y2 = [Y2[i] for i in image_7]"
   ]
  },
  {
   "cell_type": "code",
   "execution_count": 102,
   "id": "f88b5813",
   "metadata": {},
   "outputs": [
    {
     "data": {
      "text/plain": [
       "(-0.3690000405943126, -0.31185886422934433)"
      ]
     },
     "execution_count": 102,
     "metadata": {},
     "output_type": "execute_result"
    }
   ],
   "source": [
    "mean_Y1_7, mean_Y2_7 = np.mean(split_Y1), np.mean(split_Y2)\n",
    "mean_Y1_7, mean_Y2_7"
   ]
  },
  {
   "cell_type": "code",
   "execution_count": 103,
   "id": "bc4682ee",
   "metadata": {},
   "outputs": [
    {
     "data": {
      "text/plain": [
       "(0.8226125232643172, 0.9177161877589698)"
      ]
     },
     "execution_count": 103,
     "metadata": {},
     "output_type": "execute_result"
    }
   ],
   "source": [
    "std_Y1_7, std_Y2_7 = np.std(split_Y1), np.std(split_Y2)\n",
    "std_Y1_7, std_Y2_7"
   ]
  },
  {
   "cell_type": "code",
   "execution_count": 146,
   "id": "2c53d386",
   "metadata": {},
   "outputs": [
    {
     "data": {
      "text/plain": [
       "array([-0.36900004, -0.31185886])"
      ]
     },
     "execution_count": 146,
     "metadata": {},
     "output_type": "execute_result"
    }
   ],
   "source": [
    "mu_7 = np.array([mean_Y1_7, mean_Y2_7])\n",
    "mu_7"
   ]
  },
  {
   "cell_type": "code",
   "execution_count": 150,
   "id": "2ff49b33",
   "metadata": {},
   "outputs": [],
   "source": [
    "discriminant_7 = 0"
   ]
  },
  {
   "cell_type": "code",
   "execution_count": 153,
   "id": "cf4fa61e",
   "metadata": {},
   "outputs": [
    {
     "data": {
      "text/plain": [
       "array([[0.67680733, 0.74447217],\n",
       "       [0.74447217, 0.84231953]])"
      ]
     },
     "execution_count": 153,
     "metadata": {},
     "output_type": "execute_result"
    }
   ],
   "source": [
    "for i in image_7:\n",
    "    y_7 = np.array([Y1[i], Y2[i]])\n",
    "    term_1 = (y_7-mu_7)\n",
    "    discriminant_7 += term_1 * term_1[None].T\n",
    "discriminant_7 = discriminant_7/len(image_7)\n",
    "discriminant_7"
   ]
  },
  {
   "cell_type": "markdown",
   "id": "b5da2807",
   "metadata": {},
   "source": [
    "### Density Estimation Calculation"
   ]
  },
  {
   "cell_type": "code",
   "execution_count": 154,
   "id": "74845531",
   "metadata": {},
   "outputs": [
    {
     "data": {
      "text/plain": [
       "(array([0.37687996, 0.31851855]),\n",
       " array([[1.04928923, 0.98735728],\n",
       "        [0.98735728, 0.96056405]]))"
      ]
     },
     "execution_count": 154,
     "metadata": {},
     "output_type": "execute_result"
    }
   ],
   "source": [
    "# For digit 3\n",
    "mu_3, discriminant_3"
   ]
  },
  {
   "cell_type": "code",
   "execution_count": 155,
   "id": "b5bcdadd",
   "metadata": {},
   "outputs": [
    {
     "data": {
      "text/plain": [
       "(array([-0.36900004, -0.31185886]),\n",
       " array([[0.67680733, 0.74447217],\n",
       "        [0.74447217, 0.84231953]]))"
      ]
     },
     "execution_count": 155,
     "metadata": {},
     "output_type": "execute_result"
    }
   ],
   "source": [
    "# For digit 7\n",
    "mu_7, discriminant_7"
   ]
  },
  {
   "cell_type": "markdown",
   "id": "4740ac54",
   "metadata": {},
   "source": [
    "## Task 3"
   ]
  },
  {
   "cell_type": "code",
   "execution_count": 303,
   "id": "6a11c185",
   "metadata": {},
   "outputs": [],
   "source": [
    "# p(w1/x) = P(w1).p(x|w1)/P(X)\n",
    "# p(w2/x) = P(w2).p(x|w1)/P(X)\n",
    "# choose w1 given x iff p(w1|x)>p(w2|x) otherwise choose w2\n",
    "# so choose w1 when P(w1).P(x|w1)/p(x)>P(w2)p(x|w2)/p(x) otherwise choose w2\n",
    "post_prob_w1 = np.zeros(N)\n",
    "post_prob_w2 = np.zeros(N)"
   ]
  },
  {
   "cell_type": "markdown",
   "id": "9d16eb5e",
   "metadata": {},
   "source": [
    "### Given P(3) = 0.5 and P(7) = 0.5"
   ]
  },
  {
   "cell_type": "code",
   "execution_count": 318,
   "id": "06f275e9",
   "metadata": {},
   "outputs": [],
   "source": [
    "from scipy.stats import multivariate_normal\n",
    "cond_3 = multivariate_normal.pdf(np.array([Y1, Y2]).T, mean=mu_3, cov=discriminant_3)\n",
    "cond_7 = multivariate_normal.pdf(np.array([Y1, Y2]).T, mean=mu_7, cov=discriminant_7)\n",
    "prob_x = 0.5 * cond_3 + 0.5 * cond_7\n",
    "post_prob_w1 = (0.5 * cond_3)/prob_x\n",
    "post_prob_w2 = (0.5 * cond_7)/prob_x"
   ]
  },
  {
   "cell_type": "code",
   "execution_count": 324,
   "id": "bb0baa0e",
   "metadata": {},
   "outputs": [
    {
     "data": {
      "text/plain": [
       "11548"
      ]
     },
     "execution_count": 324,
     "metadata": {},
     "output_type": "execute_result"
    }
   ],
   "source": [
    "len(prob_x)"
   ]
  },
  {
   "cell_type": "code",
   "execution_count": 320,
   "id": "ed9e4864",
   "metadata": {},
   "outputs": [],
   "source": [
    "# Error occurs in our system when we choose class w2 for x when p(w1|x)>p(w2|x) and vice versa"
   ]
  },
  {
   "cell_type": "code",
   "execution_count": 321,
   "id": "37a8a59a",
   "metadata": {},
   "outputs": [],
   "source": [
    "P_error_train = 0\n",
    "for i in range(N):\n",
    "    P_error_train += min(post_prob_w1[i], post_prob_w2[i])"
   ]
  },
  {
   "cell_type": "code",
   "execution_count": 322,
   "id": "c683724d",
   "metadata": {},
   "outputs": [
    {
     "name": "stdout",
     "output_type": "stream",
     "text": [
      "Error on the training set when P(3)=P(7)=0.5 is 0.26325170639878115\n"
     ]
    }
   ],
   "source": [
    "# Normalizing the error found for the training set\n",
    "#P_error_train = P_error_train/N\n",
    "print(f\"Error on the training set when P(3)=P(7)=0.5 is {P_error_train/N}\")"
   ]
  },
  {
   "cell_type": "code",
   "execution_count": 323,
   "id": "9a446718",
   "metadata": {},
   "outputs": [
    {
     "data": {
      "text/plain": [
       "3040.0307054931245"
      ]
     },
     "execution_count": 323,
     "metadata": {},
     "output_type": "execute_result"
    }
   ],
   "source": [
    "P_error_train"
   ]
  },
  {
   "cell_type": "markdown",
   "id": "7bcaddd0",
   "metadata": {},
   "source": [
    "### Given P(3) = 0.3 and P(7) = 0.7"
   ]
  },
  {
   "cell_type": "code",
   "execution_count": 276,
   "id": "4c0c6954",
   "metadata": {},
   "outputs": [],
   "source": [
    "#post_3_s2 = multivariate_normal.pdf(np.array([Y1, Y2]).T, mean=mu_3, cov=discriminant_3)\n",
    "#post_7_s2 = multivariate_normal.pdf(np.array([Y1, Y2]).T, mean=mu_7, cov=discriminant_7)\n",
    "prob_x = 0.3 * cond_3 + 0.7 * cond_7\n",
    "post_prob_w1_s2 = (0.3 * cond_3)/prob_x\n",
    "post_prob_w2_s2 = (0.7 * cond_7)/prob_x"
   ]
  },
  {
   "cell_type": "code",
   "execution_count": 277,
   "id": "7cfc38d5",
   "metadata": {},
   "outputs": [],
   "source": [
    "# Error occurs in our system when we choose class w2 for x when p(w1|x)>p(w2|x) and vice versa"
   ]
  },
  {
   "cell_type": "code",
   "execution_count": 278,
   "id": "731ca87f",
   "metadata": {},
   "outputs": [],
   "source": [
    "P_error_train_s2 = 0\n",
    "for i in range(N):\n",
    "    P_error_train_s2 += min(post_prob_w1_s2[i], post_prob_w2_s2[i])"
   ]
  },
  {
   "cell_type": "code",
   "execution_count": 279,
   "id": "9c4d8067",
   "metadata": {},
   "outputs": [
    {
     "name": "stdout",
     "output_type": "stream",
     "text": [
      "Error on the training set when P(3)=0.3 P(7)=0.7 is 0.17599686224317274\n"
     ]
    }
   ],
   "source": [
    "# Normalizing the error found for the training set\n",
    "#P_error_train_s2 = P_error_train_s2/N\n",
    "print(f\"Error on the training set when P(3)=0.3 P(7)=0.7 is {P_error_train_s2/N}\")"
   ]
  },
  {
   "cell_type": "code",
   "execution_count": 280,
   "id": "f27de19e",
   "metadata": {},
   "outputs": [
    {
     "data": {
      "text/plain": [
       "2032.4117651841589"
      ]
     },
     "execution_count": 280,
     "metadata": {},
     "output_type": "execute_result"
    }
   ],
   "source": [
    "P_error_train_s2"
   ]
  },
  {
   "cell_type": "markdown",
   "id": "7b36cf57",
   "metadata": {},
   "source": [
    "### Performing Task 3 on Test data"
   ]
  },
  {
   "cell_type": "code",
   "execution_count": 218,
   "id": "51ebac6e",
   "metadata": {},
   "outputs": [],
   "source": [
    "data_test = sc.loadmat(\"test_data.mat\")"
   ]
  },
  {
   "cell_type": "code",
   "execution_count": 219,
   "id": "107b19bb",
   "metadata": {},
   "outputs": [
    {
     "data": {
      "text/plain": [
       "dict_keys(['__header__', '__version__', '__globals__', 'data', 'label'])"
      ]
     },
     "execution_count": 219,
     "metadata": {},
     "output_type": "execute_result"
    }
   ],
   "source": [
    "data_test.keys()"
   ]
  },
  {
   "cell_type": "code",
   "execution_count": 220,
   "id": "3c88b2e0",
   "metadata": {},
   "outputs": [
    {
     "data": {
      "text/plain": [
       "array([[3, 3, 3, ..., 7, 7, 7]])"
      ]
     },
     "execution_count": 220,
     "metadata": {},
     "output_type": "execute_result"
    }
   ],
   "source": [
    "data_test['label']"
   ]
  },
  {
   "cell_type": "code",
   "execution_count": 224,
   "id": "6003b713",
   "metadata": {},
   "outputs": [],
   "source": [
    "N_test = len(data_test['data'])"
   ]
  },
  {
   "cell_type": "code",
   "execution_count": 225,
   "id": "c0875eb8",
   "metadata": {},
   "outputs": [],
   "source": [
    "def find_mean_std_test(index):\n",
    "    flatten = (data_test['data'][index]).flatten()\n",
    "    mean = np.mean(flatten)\n",
    "    std = np.std(flatten)\n",
    "    return mean, std"
   ]
  },
  {
   "cell_type": "code",
   "execution_count": 226,
   "id": "7b0836cd",
   "metadata": {},
   "outputs": [],
   "source": [
    "mean_each_img_test, std_each_img_test = [], []\n",
    "for i in range(N_test):\n",
    "    tmp_mean, tmp_std = find_mean_std_test(i)\n",
    "    mean_each_img_test.append(tmp_mean)\n",
    "    std_each_img_test.append(tmp_std)"
   ]
  },
  {
   "cell_type": "code",
   "execution_count": 331,
   "id": "854ed2f4",
   "metadata": {},
   "outputs": [],
   "source": [
    "Y1_test, Y2_test = np.zeros(N_test), np.zeros(N_test)\n",
    "for i in range(N_test):\n",
    "    Y1_test[i]=(mean_each_img_test[i]-M1)/S1\n",
    "    Y2_test[i]=(std_each_img_test[i]-M2)/S2"
   ]
  },
  {
   "cell_type": "markdown",
   "id": "78151907",
   "metadata": {},
   "source": [
    "#### Y1 and Y2 for the testing data has now been calculated"
   ]
  },
  {
   "cell_type": "code",
   "execution_count": 342,
   "id": "53ba9390",
   "metadata": {},
   "outputs": [
    {
     "data": {
      "text/plain": [
       "(array([ 1.41659394,  0.41809031,  1.40213276, ..., -1.03157488,\n",
       "        -0.09323522, -1.35831572]),\n",
       " array([ 1.29177314,  0.5888807 ,  1.2132882 , ..., -1.07742787,\n",
       "         0.12317551, -1.53804101]))"
      ]
     },
     "execution_count": 342,
     "metadata": {},
     "output_type": "execute_result"
    }
   ],
   "source": [
    "Y1_test, Y2_test"
   ]
  },
  {
   "cell_type": "code",
   "execution_count": 343,
   "id": "7376cbce",
   "metadata": {},
   "outputs": [],
   "source": [
    "post_prob_w1_test_type1 = np.zeros(N_test)\n",
    "post_prob_w2_test_type1 = np.zeros(N_test)"
   ]
  },
  {
   "cell_type": "markdown",
   "id": "182d8579",
   "metadata": {},
   "source": [
    "### Given P(3) = 0.5 and P(7) = 0.5"
   ]
  },
  {
   "cell_type": "code",
   "execution_count": 344,
   "id": "fd1c8536",
   "metadata": {},
   "outputs": [],
   "source": [
    "cond_3_test = multivariate_normal.pdf(np.array([Y1_test, Y2_test]).T, mean=mu_3, cov=discriminant_3)\n",
    "cond_7_test = multivariate_normal.pdf(np.array([Y1_test, Y2_test]).T, mean=mu_7, cov=discriminant_7)\n",
    "prob_x_test = 0.5 * cond_3_test + 0.5 * cond_7_test\n",
    "post_prob_w1_test_type1 = (0.5 * cond_3_test)/prob_x_test\n",
    "post_prob_w2_test_type1 = (0.5 * cond_7_test)/prob_x_test"
   ]
  },
  {
   "cell_type": "code",
   "execution_count": 345,
   "id": "dc830b10",
   "metadata": {},
   "outputs": [],
   "source": [
    "P_error_test_s1 = 0\n",
    "for i in range(N_test):\n",
    "    P_error_test_s1 += min(post_prob_w1_test_type1[i], post_prob_w2_test_type1[i])"
   ]
  },
  {
   "cell_type": "code",
   "execution_count": 346,
   "id": "c88a98fe",
   "metadata": {},
   "outputs": [
    {
     "name": "stdout",
     "output_type": "stream",
     "text": [
      "Error on the test set when P(3)=P(7)=0.5 is 0.2551125412684881\n"
     ]
    }
   ],
   "source": [
    "# Normalizing the error found for the test set\n",
    "print(f\"Error on the test set when P(3)=P(7)=0.5 is {P_error_test_s1/N_test}\")"
   ]
  },
  {
   "cell_type": "code",
   "execution_count": 337,
   "id": "657065c4",
   "metadata": {},
   "outputs": [
    {
     "data": {
      "text/plain": [
       "736.2547941008567"
      ]
     },
     "execution_count": 337,
     "metadata": {},
     "output_type": "execute_result"
    }
   ],
   "source": [
    "P_error_test_s1"
   ]
  },
  {
   "cell_type": "markdown",
   "id": "d19b196e",
   "metadata": {},
   "source": [
    "### Given P(3) = 0.3 and P(7) = 0.7"
   ]
  },
  {
   "cell_type": "code",
   "execution_count": 338,
   "id": "0cae7d3c",
   "metadata": {},
   "outputs": [],
   "source": [
    "prob_x_test = 0.3 * cond_3_test + 0.7 * cond_7_test\n",
    "post_prob_w1_test_type2 = (0.3 * cond_3_test)/prob_x_test\n",
    "post_prob_w2_test_type2 = (0.7 * cond_7_test)/prob_x_test"
   ]
  },
  {
   "cell_type": "code",
   "execution_count": 339,
   "id": "e8601390",
   "metadata": {},
   "outputs": [],
   "source": [
    "P_error_test_s2 = 0\n",
    "for i in range(N_test):\n",
    "    P_error_test_s2 += min(post_prob_w1_test_type2[i], post_prob_w2_test_type2[i])"
   ]
  },
  {
   "cell_type": "code",
   "execution_count": 340,
   "id": "cf409b65",
   "metadata": {},
   "outputs": [
    {
     "name": "stdout",
     "output_type": "stream",
     "text": [
      "Error on the test set when P(3)=0.3 P(7)=0.7 is 0.17138501127954242\n"
     ]
    }
   ],
   "source": [
    "# Normalizing the error found for the test set\n",
    "print(f\"Error on the test set when P(3)=0.3 P(7)=0.7 is {P_error_test_s2/N_test}\")"
   ]
  },
  {
   "cell_type": "code",
   "execution_count": 347,
   "id": "10033ed3",
   "metadata": {},
   "outputs": [
    {
     "data": {
      "text/plain": [
       "494.61714255275945"
      ]
     },
     "execution_count": 347,
     "metadata": {},
     "output_type": "execute_result"
    }
   ],
   "source": [
    "P_error_test_s2"
   ]
  },
  {
   "cell_type": "code",
   "execution_count": null,
   "id": "aba2151e",
   "metadata": {},
   "outputs": [],
   "source": []
  },
  {
   "cell_type": "code",
   "execution_count": null,
   "id": "277b07af",
   "metadata": {},
   "outputs": [],
   "source": []
  }
 ],
 "metadata": {
  "kernelspec": {
   "display_name": "Python 3",
   "language": "python",
   "name": "python3"
  },
  "language_info": {
   "codemirror_mode": {
    "name": "ipython",
    "version": 3
   },
   "file_extension": ".py",
   "mimetype": "text/x-python",
   "name": "python",
   "nbconvert_exporter": "python",
   "pygments_lexer": "ipython3",
   "version": "3.8.8"
  }
 },
 "nbformat": 4,
 "nbformat_minor": 5
}
